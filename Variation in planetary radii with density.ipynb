{
 "cells": [
  {
   "cell_type": "markdown",
   "metadata": {
    "collapsed": true,
    "pycharm": {
     "name": "#%% md\n"
    }
   },
   "source": [
    "# Variation in planetary radii with density"
   ]
  },
  {
   "cell_type": "code",
   "execution_count": null,
   "metadata": {
    "pycharm": {
     "is_executing": false,
     "name": "#%%\n"
    }
   },
   "outputs": [],
   "source": [
    "import pandas as pd\n",
    "import matplotlib.pyplot as plt\n",
    "\n",
    "planetary_data = pd.read_excel('planetary_data.xlsx', sheet_name='Sheet1', header=0)\n",
    "\n",
    "radius = planetary_data['Radius /km']\n",
    "density = planetary_data['Density /kgm-3']\n",
    "\n",
    "plt.figure(figsize=(12, 9))\n",
    "plt.scatter(density, radius)\n",
    "plt.title('Variation in planetary radii with density')\n",
    "plt.xlabel('Density $kg\\,m^{-3}$')\n",
    "plt.ylabel('Radius $km$')\n",
    "plt.yscale('log')\n",
    "plt.grid(axis='both', which='both')\n",
    "plt.show()\n",
    "plt.close()"
   ]
  },
  {
   "cell_type": "markdown",
   "metadata": {
    "pycharm": {
     "name": "#%% md\n"
    }
   },
   "source": [
    "## Using scikit-learn and K-means clustering to classify planetary bodies\n",
    "\n",
    "With the planetary data plotted by density and radius as above, we can attempt to group each body into a number of classification groups. We will arrange the data into the following categories:\n",
    "\n",
    "* Giant planets: this should include Jupiter, Saturn, Uranus and Neptune.\n",
    "* Terrestrial planets: as well as the four inner planets, we would expect rocky moons like Io and Europa to fit this category.\n",
    "* Icy moons, for example Ganymede and Titan (\"yes, sir, I've been around...\").\n",
    "* Asteroids and comets. This should also include smaller, irregular-shaped moons.\n",
    "\n",
    "Scikit-learn is a widely used machine learning library for Python and provides a range of tools for the problem described above. We will not make any leading assumptions about the bodies and will therefore not assign any initial categories for them. Therefore, this becomes an unsupervised classification problem. The K-means clustering algorithm lends itself particularly well to problems of this description.\n",
    "\n",
    "To begin with, we will import the `sklearn.cluster` and `numpy` packages."
   ]
  },
  {
   "cell_type": "code",
   "execution_count": null,
   "metadata": {
    "pycharm": {
     "is_executing": false,
     "name": "#%%\n"
    }
   },
   "outputs": [],
   "source": [
    "import sklearn.cluster as cluster\n",
    "import numpy as np"
   ]
  },
  {
   "cell_type": "markdown",
   "metadata": {
    "pycharm": {
     "name": "#%% md\n"
    }
   },
   "source": [
    "We have designated four-categories above, so will create a dict to map numeric categories to colours. This will allow us to distinguish the category of each body in a scatter plot."
   ]
  },
  {
   "cell_type": "code",
   "execution_count": null,
   "metadata": {
    "pycharm": {
     "is_executing": false,
     "name": "#%%\n"
    }
   },
   "outputs": [],
   "source": [
    "colour_dict = {0: 'r', 1: 'g', 2: 'b', 3: 'y'}"
   ]
  },
  {
   "cell_type": "markdown",
   "metadata": {
    "pycharm": {
     "name": "#%% md\n"
    }
   },
   "source": [
    "The next stage is to actually training the clustering algorithm. We will not be using this to predict the categories of new samples, so training against the complete dataset is satisfactory here. In this case, the clustering algorithm works best against logarithmic data, so we will make this transformation. This will then need to be transposed before calling the `KMeans` function itself."
   ]
  },
  {
   "cell_type": "code",
   "execution_count": null,
   "metadata": {
    "pycharm": {
     "is_executing": false,
     "name": "#%%\n"
    }
   },
   "outputs": [],
   "source": [
    "# Create the learning algorithm, fitted to the planetary data\n",
    "log_data = np.array([np.log10(x) for x in [density, radius]]).transpose()\n",
    "kmeans = cluster.KMeans(n_clusters=len(colour_dict), random_state=0).fit(log_data)\n",
    "\n",
    "# Determine the clusters using this algorithm and fit this to the planetary data\n",
    "planetary_data['Cluster'] = kmeans.predict(log_data)\n",
    "\n",
    "planetary_data"
   ]
  },
  {
   "cell_type": "markdown",
   "metadata": {
    "pycharm": {
     "name": "#%% md\n"
    }
   },
   "source": [
    "We output the cluster numbers for each body and then ask the user to provide labels for each category. This is a required step as the category assignments are not predictable: we do not know if category 0 will be used for giant planets, for example."
   ]
  },
  {
   "cell_type": "code",
   "execution_count": null,
   "metadata": {
    "pycharm": {
     "is_executing": false,
     "name": "#%%\n"
    }
   },
   "outputs": [],
   "source": [
    "def category_example(i):\n",
    "    return planetary_data.loc[planetary_data['Cluster'] == i].iloc[0]['Body']\n",
    "\n",
    "category_labels = {0: 'Terrestrial planet', 1: 'Asteroid/comet', 2: 'Icy body', 3: 'Giant planet'}"
   ]
  },
  {
   "cell_type": "markdown",
   "metadata": {
    "pycharm": {
     "name": "#%% md\n"
    }
   },
   "source": [
    "Once the labels have been created, we can update the table to display these."
   ]
  },
  {
   "cell_type": "code",
   "execution_count": null,
   "metadata": {
    "pycharm": {
     "is_executing": false,
     "name": "#%%\n"
    }
   },
   "outputs": [],
   "source": [
    "planetary_data['Category'] = [category_labels[x] for x in planetary_data['Cluster']]\n",
    "planetary_data"
   ]
  },
  {
   "cell_type": "markdown",
   "metadata": {
    "pycharm": {
     "name": "#%% md\n"
    }
   },
   "source": [
    "We can finally plot this data. To separate different clusters by colour and label, we iterate over `colour_dict`. Finally, we will output this plot to a PDF file for future reference."
   ]
  },
  {
   "cell_type": "code",
   "execution_count": null,
   "metadata": {
    "pycharm": {
     "is_executing": false,
     "name": "#%%\n"
    }
   },
   "outputs": [],
   "source": [
    "from matplotlib.backends.backend_pdf import PdfPages\n",
    "\n",
    "pp = PdfPages('Plot of planetary radii versus density.pdf')\n",
    "plt.figure(figsize=(12, 9))\n",
    "\n",
    "plt.title('K-means categorisation of planetary data')\n",
    "plt.xlabel('Density ($kg m^{-3}$)')\n",
    "plt.ylabel('Radius ($m$)')\n",
    "plt.grid(axis='both', which='both')\n",
    "plt.yscale('log')\n",
    "\n",
    "for i in range(0, len(colour_dict)):\n",
    "    subdata = planetary_data.loc[planetary_data['Cluster'] == i]\n",
    "    plt.scatter(subdata['Density /kgm-3'], subdata['Radius /km'], color=colour_dict[i], label=category_labels[i])\n",
    "\n",
    "plt.legend(loc='best')\n",
    "\n",
    "pp.savefig()\n",
    "plt.show()\n",
    "plt.close()"
   ]
  }
 ],
 "metadata": {
  "kernelspec": {
   "display_name": "Python 3",
   "language": "python",
   "name": "python3"
  },
  "language_info": {
   "codemirror_mode": {
    "name": "ipython",
    "version": 3
   },
   "file_extension": ".py",
   "mimetype": "text/x-python",
   "name": "python",
   "nbconvert_exporter": "python",
   "pygments_lexer": "ipython3",
   "version": "3.7.3"
  },
  "pycharm": {
   "stem_cell": {
    "cell_type": "raw",
    "metadata": {
     "collapsed": false
    },
    "source": []
   }
  }
 },
 "nbformat": 4,
 "nbformat_minor": 1
}
